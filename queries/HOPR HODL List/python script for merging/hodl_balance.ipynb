{
 "cells": [
  {
   "cell_type": "code",
   "execution_count": 32,
   "metadata": {},
   "outputs": [],
   "source": [
    "import pandas as pd\n",
    "import numpy as np"
   ]
  },
  {
   "cell_type": "code",
   "execution_count": 33,
   "metadata": {},
   "outputs": [],
   "source": [
    "eth_in = pd.read_csv('main_hodl.csv')\n",
    "xDai_in = pd.read_csv('xDai_hodl.csv')"
   ]
  },
  {
   "cell_type": "code",
   "execution_count": 34,
   "metadata": {},
   "outputs": [],
   "source": [
    "N1 = eth_in.shape[0]\n",
    "hodl_list_dict = {}\n",
    "i = 0\n",
    "while i < N1:\n",
    "    hodl_list_dict[eth_in.iat[i, 0]] = [eth_in.iat[i, 1], eth_in.iat[i, 2], eth_in.iat[i, 3]]\n",
    "    i = i + 1\n",
    "\n",
    "N2 = xDai_in.shape[0]\n",
    "i = 0\n",
    "while i < N2:\n",
    "    if xDai_in.iat[i, 0] in hodl_list_dict: #for existing account\n",
    "        d1 = hodl_list_dict[xDai_in.iat[i, 0]][1] #eth_in_time\n",
    "        d2 = xDai_in.iat[i, 2] #xDai_in_time\n",
    "        \n",
    "        if d1 < d2:\n",
    "            pass #keep the data in the earlier date \n",
    "        else:\n",
    "            hodl_list_dict[xDai_in.iat[i, 0]] = [xDai_in.iat[i, 1], xDai_in.iat[i, 2], xDai_in.iat[i, 3]] #replace with xDai data which is earlier\n",
    "        \n",
    "    else:\n",
    "        hodl_list_dict[xDai_in.iat[i, 0]] = [xDai_in.iat[i, 1], xDai_in.iat[i, 2], xDai_in.iat[i, 3]] \n",
    "    i = i + 1"
   ]
  },
  {
   "cell_type": "code",
   "execution_count": 35,
   "metadata": {},
   "outputs": [
    {
     "data": {
      "text/plain": [
       "{'\\\\xcbf935ec0827ca8c096e52edba7b1879f77c78e2': [4.75e+23,\n",
       "  '2021/2/28 19:40',\n",
       "  11947743],\n",
       " '\\\\xb9e7f09bf5ecc2bfb1be70f4f1bcc4792711cb9f': [5e+23,\n",
       "  '2021/3/3 18:03',\n",
       "  11966827],\n",
       " '\\\\x6057f353c177ee622c787bdaff5cab70a2184efb': [7.3e+23,\n",
       "  '2021/3/12 6:17',\n",
       "  12022073],\n",
       " '\\\\xaa58988e160da2065f17c801e09999d04add0468': [7.3e+23,\n",
       "  '2021/4/26 5:40',\n",
       "  12314104],\n",
       " '\\\\xc2be79cf419cf48f447320d5d16f5115bbb58b03': [7.3e+23,\n",
       "  '2021/4/26 5:43',\n",
       "  12314121]}"
      ]
     },
     "execution_count": 35,
     "metadata": {},
     "output_type": "execute_result"
    }
   ],
   "source": [
    "hodl_list_dict"
   ]
  },
  {
   "cell_type": "code",
   "execution_count": 36,
   "metadata": {},
   "outputs": [
    {
     "data": {
      "text/html": [
       "<div>\n",
       "<style scoped>\n",
       "    .dataframe tbody tr th:only-of-type {\n",
       "        vertical-align: middle;\n",
       "    }\n",
       "\n",
       "    .dataframe tbody tr th {\n",
       "        vertical-align: top;\n",
       "    }\n",
       "\n",
       "    .dataframe thead th {\n",
       "        text-align: right;\n",
       "    }\n",
       "</style>\n",
       "<table border=\"1\" class=\"dataframe\">\n",
       "  <thead>\n",
       "    <tr style=\"text-align: right;\">\n",
       "      <th></th>\n",
       "      <th>address</th>\n",
       "      <th>value</th>\n",
       "      <th>time</th>\n",
       "      <th>block number</th>\n",
       "    </tr>\n",
       "  </thead>\n",
       "  <tbody>\n",
       "    <tr>\n",
       "      <th>0</th>\n",
       "      <td>\\xcbf935ec0827ca8c096e52edba7b1879f77c78e2</td>\n",
       "      <td>4.750000e+23</td>\n",
       "      <td>2021/2/28 19:40</td>\n",
       "      <td>11947743</td>\n",
       "    </tr>\n",
       "    <tr>\n",
       "      <th>1</th>\n",
       "      <td>\\xb9e7f09bf5ecc2bfb1be70f4f1bcc4792711cb9f</td>\n",
       "      <td>5.000000e+23</td>\n",
       "      <td>2021/3/3 18:03</td>\n",
       "      <td>11966827</td>\n",
       "    </tr>\n",
       "    <tr>\n",
       "      <th>2</th>\n",
       "      <td>\\x6057f353c177ee622c787bdaff5cab70a2184efb</td>\n",
       "      <td>7.300000e+23</td>\n",
       "      <td>2021/3/12 6:17</td>\n",
       "      <td>12022073</td>\n",
       "    </tr>\n",
       "    <tr>\n",
       "      <th>3</th>\n",
       "      <td>\\xaa58988e160da2065f17c801e09999d04add0468</td>\n",
       "      <td>7.300000e+23</td>\n",
       "      <td>2021/4/26 5:40</td>\n",
       "      <td>12314104</td>\n",
       "    </tr>\n",
       "    <tr>\n",
       "      <th>4</th>\n",
       "      <td>\\xc2be79cf419cf48f447320d5d16f5115bbb58b03</td>\n",
       "      <td>7.300000e+23</td>\n",
       "      <td>2021/4/26 5:43</td>\n",
       "      <td>12314121</td>\n",
       "    </tr>\n",
       "  </tbody>\n",
       "</table>\n",
       "</div>"
      ],
      "text/plain": [
       "                                      address         value             time  \\\n",
       "0  \\xcbf935ec0827ca8c096e52edba7b1879f77c78e2  4.750000e+23  2021/2/28 19:40   \n",
       "1  \\xb9e7f09bf5ecc2bfb1be70f4f1bcc4792711cb9f  5.000000e+23   2021/3/3 18:03   \n",
       "2  \\x6057f353c177ee622c787bdaff5cab70a2184efb  7.300000e+23   2021/3/12 6:17   \n",
       "3  \\xaa58988e160da2065f17c801e09999d04add0468  7.300000e+23   2021/4/26 5:40   \n",
       "4  \\xc2be79cf419cf48f447320d5d16f5115bbb58b03  7.300000e+23   2021/4/26 5:43   \n",
       "\n",
       "   block number  \n",
       "0      11947743  \n",
       "1      11966827  \n",
       "2      12022073  \n",
       "3      12314104  \n",
       "4      12314121  "
      ]
     },
     "execution_count": 36,
     "metadata": {},
     "output_type": "execute_result"
    }
   ],
   "source": [
    "hodl_list_df = pd.DataFrame.from_dict(hodl_list_dict, orient='index')\n",
    "hodl_list_df = hodl_list_df.reset_index()\n",
    "hodl_list_df.columns = ['address', 'value', 'time', 'block number']\n",
    "hodl_list_df\n"
   ]
  },
  {
   "cell_type": "code",
   "execution_count": 37,
   "metadata": {},
   "outputs": [],
   "source": [
    "eth_out = pd.read_csv('main_out.csv')\n",
    "xDai_out = pd.read_csv('xDai_out.csv')"
   ]
  },
  {
   "cell_type": "code",
   "execution_count": 38,
   "metadata": {},
   "outputs": [],
   "source": [
    "N3 = eth_out.shape[0]\n",
    "Out_transfers_dict = {}\n",
    "i = 0\n",
    "while i < N3:\n",
    "    Out_transfers_dict[eth_out.iat[i, 0]] = [eth_out.iat[i, 1], eth_out.iat[i, 2], eth_out.iat[i, 3]]\n",
    "    i = i + 1\n",
    "\n",
    "\n",
    "N4 = xDai_out.shape[0]\n",
    "i = 0\n",
    "while i < N4:\n",
    "    if xDai_out.iat[i, 0] in Out_transfers_dict: #for existing outgoing transfers\n",
    "        Out_transfers_dict[xDai_out.iat[i, 0]][0] = Out_transfers_dict[xDai_out.iat[i, 0]][0] + xDai_out.iat[i, 1]\n",
    "        #sum value of outgoing transfers\n",
    "        d3 = Out_transfers_dict[xDai_out.iat[i, 0]][1] #time for the last outgoing transfer in ETH\n",
    "        d4 = xDai_out.iat[i, 2] #time for the last outgoing transfer in xDai\n",
    "        \n",
    "        if d3 < d4:\n",
    "            Out_transfers_dict[xDai_out.iat[i, 0]][1] = d4 #use the later one\n",
    "            Out_transfers_dict[xDai_out.iat[i, 0]][2] = xDai_out.iat[i, 3] #update the block number\n",
    "        else:\n",
    "           pass\n",
    "    else:\n",
    "        Out_transfers_dict[xDai_out.iat[i, 0]] = [xDai_out.iat[i, 1], xDai_out.iat[i, 2], xDai_out.iat[i, 3]]\n",
    "    i = i + 1\n",
    "    \n",
    "#Out_transfers_dict"
   ]
  },
  {
   "cell_type": "code",
   "execution_count": 39,
   "metadata": {},
   "outputs": [
    {
     "data": {
      "text/html": [
       "<div>\n",
       "<style scoped>\n",
       "    .dataframe tbody tr th:only-of-type {\n",
       "        vertical-align: middle;\n",
       "    }\n",
       "\n",
       "    .dataframe tbody tr th {\n",
       "        vertical-align: top;\n",
       "    }\n",
       "\n",
       "    .dataframe thead th {\n",
       "        text-align: right;\n",
       "    }\n",
       "</style>\n",
       "<table border=\"1\" class=\"dataframe\">\n",
       "  <thead>\n",
       "    <tr style=\"text-align: right;\">\n",
       "      <th></th>\n",
       "      <th>address</th>\n",
       "      <th>value</th>\n",
       "      <th>time</th>\n",
       "      <th>block number</th>\n",
       "    </tr>\n",
       "  </thead>\n",
       "  <tbody>\n",
       "    <tr>\n",
       "      <th>0</th>\n",
       "      <td>\\x6057f353c177ee622c787bdaff5cab70a2184efb</td>\n",
       "      <td>-7.300000e+23</td>\n",
       "      <td>2021/4/26 5:40</td>\n",
       "      <td>12314104</td>\n",
       "    </tr>\n",
       "    <tr>\n",
       "      <th>1</th>\n",
       "      <td>\\xcbf935ec0827ca8c096e52edba7b1879f77c78e2</td>\n",
       "      <td>-4.750000e+23</td>\n",
       "      <td>2021/5/19 6:32</td>\n",
       "      <td>12463236</td>\n",
       "    </tr>\n",
       "    <tr>\n",
       "      <th>2</th>\n",
       "      <td>\\xb9e7f09bf5ecc2bfb1be70f4f1bcc4792711cb9f</td>\n",
       "      <td>-5.000000e+23</td>\n",
       "      <td>2021/5/19 7:00</td>\n",
       "      <td>12463359</td>\n",
       "    </tr>\n",
       "    <tr>\n",
       "      <th>3</th>\n",
       "      <td>\\xaa58988e160da2065f17c801e09999d04add0468</td>\n",
       "      <td>-1.400000e+24</td>\n",
       "      <td>2021/6/17 6:24</td>\n",
       "      <td>12650320</td>\n",
       "    </tr>\n",
       "  </tbody>\n",
       "</table>\n",
       "</div>"
      ],
      "text/plain": [
       "                                      address         value            time  \\\n",
       "0  \\x6057f353c177ee622c787bdaff5cab70a2184efb -7.300000e+23  2021/4/26 5:40   \n",
       "1  \\xcbf935ec0827ca8c096e52edba7b1879f77c78e2 -4.750000e+23  2021/5/19 6:32   \n",
       "2  \\xb9e7f09bf5ecc2bfb1be70f4f1bcc4792711cb9f -5.000000e+23  2021/5/19 7:00   \n",
       "3  \\xaa58988e160da2065f17c801e09999d04add0468 -1.400000e+24  2021/6/17 6:24   \n",
       "\n",
       "   block number  \n",
       "0      12314104  \n",
       "1      12463236  \n",
       "2      12463359  \n",
       "3      12650320  "
      ]
     },
     "execution_count": 39,
     "metadata": {},
     "output_type": "execute_result"
    }
   ],
   "source": [
    "Out_transfers_df = pd.DataFrame.from_dict(Out_transfers_dict, orient='index')\n",
    "Out_transfers_df = Out_transfers_df.reset_index()\n",
    "Out_transfers_df.columns = ['address', 'value', 'time', 'block number']\n",
    "Out_transfers_df\n",
    "\n"
   ]
  },
  {
   "cell_type": "code",
   "execution_count": 40,
   "metadata": {},
   "outputs": [],
   "source": [
    "i = 0\n",
    "hodl_balance_dict = hodl_list_dict"
   ]
  },
  {
   "cell_type": "code",
   "execution_count": 41,
   "metadata": {},
   "outputs": [
    {
     "data": {
      "text/plain": [
       "{'\\\\xcbf935ec0827ca8c096e52edba7b1879f77c78e2': [4.75e+23,\n",
       "  '2021/2/28 19:40',\n",
       "  11947743],\n",
       " '\\\\xb9e7f09bf5ecc2bfb1be70f4f1bcc4792711cb9f': [5e+23,\n",
       "  '2021/3/3 18:03',\n",
       "  11966827],\n",
       " '\\\\x6057f353c177ee622c787bdaff5cab70a2184efb': [7.3e+23,\n",
       "  '2021/3/12 6:17',\n",
       "  12022073],\n",
       " '\\\\xaa58988e160da2065f17c801e09999d04add0468': [7.3e+23,\n",
       "  '2021/4/26 5:40',\n",
       "  12314104],\n",
       " '\\\\xc2be79cf419cf48f447320d5d16f5115bbb58b03': [7.3e+23,\n",
       "  '2021/4/26 5:43',\n",
       "  12314121]}"
      ]
     },
     "execution_count": 41,
     "metadata": {},
     "output_type": "execute_result"
    }
   ],
   "source": [
    "hodl_balance_dict"
   ]
  },
  {
   "cell_type": "code",
   "execution_count": 42,
   "metadata": {},
   "outputs": [],
   "source": [
    "N_out = Out_transfers_df.shape[0]\n",
    "\n",
    "while i < N_out:\n",
    "    if Out_transfers_df.iat[i, 0] in hodl_list_dict:#should always hold\n",
    "\n",
    "        d1 = hodl_list_dict[Out_transfers_df.iat[i, 0]][1] #time for first ongoing transfer\n",
    "        d2 = Out_transfers_df.iat[i, 2] #time for the last oytgoing transfer\n",
    "\n",
    "        if d1 <= d2: #should always hold, then update the balance and time\n",
    "            hodl_balance_dict[Out_transfers_df.iat[i, 0]] = [hodl_list_dict[Out_transfers_df.iat[i, 0]][0]+Out_transfers_df.iat[i, 1], Out_transfers_df.iat[i, 2], Out_transfers_df.iat[i, 3]]\n",
    "        else:\n",
    "            print(Out_transfers_df.iat[i, 0], Out_transfers_df.iat[i, 1], Out_transfers_df.iat[i, 2])        \n",
    "    else:\n",
    "        print(Out_transfers_df.iat[i, 0], Out_transfers_df.iat[i, 1], Out_transfers_df.iat[i, 2])\n",
    "    i = i + 1\n",
    "\n"
   ]
  },
  {
   "cell_type": "code",
   "execution_count": 43,
   "metadata": {},
   "outputs": [
    {
     "data": {
      "text/plain": [
       "{'\\\\xcbf935ec0827ca8c096e52edba7b1879f77c78e2': [0.0,\n",
       "  '2021/5/19 6:32',\n",
       "  12463236],\n",
       " '\\\\xb9e7f09bf5ecc2bfb1be70f4f1bcc4792711cb9f': [0.0,\n",
       "  '2021/5/19 7:00',\n",
       "  12463359],\n",
       " '\\\\x6057f353c177ee622c787bdaff5cab70a2184efb': [0.0,\n",
       "  '2021/4/26 5:40',\n",
       "  12314104],\n",
       " '\\\\xaa58988e160da2065f17c801e09999d04add0468': [-6.7e+23,\n",
       "  '2021/6/17 6:24',\n",
       "  12650320],\n",
       " '\\\\xc2be79cf419cf48f447320d5d16f5115bbb58b03': [7.3e+23,\n",
       "  '2021/4/26 5:43',\n",
       "  12314121]}"
      ]
     },
     "execution_count": 43,
     "metadata": {},
     "output_type": "execute_result"
    }
   ],
   "source": [
    "hodl_balance_dict"
   ]
  },
  {
   "cell_type": "code",
   "execution_count": 44,
   "metadata": {},
   "outputs": [
    {
     "data": {
      "text/html": [
       "<div>\n",
       "<style scoped>\n",
       "    .dataframe tbody tr th:only-of-type {\n",
       "        vertical-align: middle;\n",
       "    }\n",
       "\n",
       "    .dataframe tbody tr th {\n",
       "        vertical-align: top;\n",
       "    }\n",
       "\n",
       "    .dataframe thead th {\n",
       "        text-align: right;\n",
       "    }\n",
       "</style>\n",
       "<table border=\"1\" class=\"dataframe\">\n",
       "  <thead>\n",
       "    <tr style=\"text-align: right;\">\n",
       "      <th></th>\n",
       "      <th>address</th>\n",
       "      <th>value</th>\n",
       "      <th>time</th>\n",
       "      <th>block number</th>\n",
       "    </tr>\n",
       "  </thead>\n",
       "  <tbody>\n",
       "    <tr>\n",
       "      <th>0</th>\n",
       "      <td>\\xcbf935ec0827ca8c096e52edba7b1879f77c78e2</td>\n",
       "      <td>0.000000e+00</td>\n",
       "      <td>2021/5/19 6:32</td>\n",
       "      <td>12463236</td>\n",
       "    </tr>\n",
       "    <tr>\n",
       "      <th>1</th>\n",
       "      <td>\\xb9e7f09bf5ecc2bfb1be70f4f1bcc4792711cb9f</td>\n",
       "      <td>0.000000e+00</td>\n",
       "      <td>2021/5/19 7:00</td>\n",
       "      <td>12463359</td>\n",
       "    </tr>\n",
       "    <tr>\n",
       "      <th>2</th>\n",
       "      <td>\\x6057f353c177ee622c787bdaff5cab70a2184efb</td>\n",
       "      <td>0.000000e+00</td>\n",
       "      <td>2021/4/26 5:40</td>\n",
       "      <td>12314104</td>\n",
       "    </tr>\n",
       "    <tr>\n",
       "      <th>3</th>\n",
       "      <td>\\xaa58988e160da2065f17c801e09999d04add0468</td>\n",
       "      <td>-6.700000e+23</td>\n",
       "      <td>2021/6/17 6:24</td>\n",
       "      <td>12650320</td>\n",
       "    </tr>\n",
       "    <tr>\n",
       "      <th>4</th>\n",
       "      <td>\\xc2be79cf419cf48f447320d5d16f5115bbb58b03</td>\n",
       "      <td>7.300000e+23</td>\n",
       "      <td>2021/4/26 5:43</td>\n",
       "      <td>12314121</td>\n",
       "    </tr>\n",
       "  </tbody>\n",
       "</table>\n",
       "</div>"
      ],
      "text/plain": [
       "                                      address         value            time  \\\n",
       "0  \\xcbf935ec0827ca8c096e52edba7b1879f77c78e2  0.000000e+00  2021/5/19 6:32   \n",
       "1  \\xb9e7f09bf5ecc2bfb1be70f4f1bcc4792711cb9f  0.000000e+00  2021/5/19 7:00   \n",
       "2  \\x6057f353c177ee622c787bdaff5cab70a2184efb  0.000000e+00  2021/4/26 5:40   \n",
       "3  \\xaa58988e160da2065f17c801e09999d04add0468 -6.700000e+23  2021/6/17 6:24   \n",
       "4  \\xc2be79cf419cf48f447320d5d16f5115bbb58b03  7.300000e+23  2021/4/26 5:43   \n",
       "\n",
       "   block number  \n",
       "0      12463236  \n",
       "1      12463359  \n",
       "2      12314104  \n",
       "3      12650320  \n",
       "4      12314121  "
      ]
     },
     "execution_count": 44,
     "metadata": {},
     "output_type": "execute_result"
    }
   ],
   "source": [
    "hodl_balance_df = pd.DataFrame.from_dict(hodl_balance_dict, orient='index')\n",
    "hodl_balance_df = hodl_balance_df.reset_index()\n",
    "hodl_balance_df.columns = ['address', 'value', 'time', 'block number']\n",
    "hodl_balance_df"
   ]
  }
 ],
 "metadata": {
  "kernelspec": {
   "display_name": "Python 3",
   "language": "python",
   "name": "python3"
  },
  "language_info": {
   "codemirror_mode": {
    "name": "ipython",
    "version": 3
   },
   "file_extension": ".py",
   "mimetype": "text/x-python",
   "name": "python",
   "nbconvert_exporter": "python",
   "pygments_lexer": "ipython3",
   "version": "3.8.2"
  }
 },
 "nbformat": 4,
 "nbformat_minor": 4
}
